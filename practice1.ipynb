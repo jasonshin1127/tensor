{
 "cells": [
  {
   "cell_type": "code",
   "execution_count": 8,
   "id": "1499c9b3-247f-4fc2-9bf5-5b2523228c81",
   "metadata": {
    "execution": {
     "iopub.execute_input": "2023-07-11T01:30:25.264835Z",
     "iopub.status.busy": "2023-07-11T01:30:25.264314Z",
     "iopub.status.idle": "2023-07-11T01:30:25.268988Z",
     "shell.execute_reply": "2023-07-11T01:30:25.268326Z",
     "shell.execute_reply.started": "2023-07-11T01:30:25.264790Z"
    },
    "tags": []
   },
   "outputs": [],
   "source": [
    "import tensorflow as tf"
   ]
  },
  {
   "cell_type": "code",
   "execution_count": 9,
   "id": "b067789c-5139-4b54-933f-732d9e58ef0f",
   "metadata": {
    "execution": {
     "iopub.execute_input": "2023-07-11T01:30:55.364427Z",
     "iopub.status.busy": "2023-07-11T01:30:55.364025Z",
     "iopub.status.idle": "2023-07-11T01:30:55.371226Z",
     "shell.execute_reply": "2023-07-11T01:30:55.370064Z",
     "shell.execute_reply.started": "2023-07-11T01:30:55.364402Z"
    },
    "tags": []
   },
   "outputs": [
    {
     "ename": "SyntaxError",
     "evalue": "invalid syntax (3175679313.py, line 16)",
     "output_type": "error",
     "traceback": [
      "\u001b[0;36m  Cell \u001b[0;32mIn [9], line 16\u001b[0;36m\u001b[0m\n\u001b[0;31m    opt.minimize( lamda:loss_func(a, b), var_list = [a, b])\u001b[0m\n\u001b[0m                       ^\u001b[0m\n\u001b[0;31mSyntaxError\u001b[0m\u001b[0;31m:\u001b[0m invalid syntax\n"
     ]
    }
   ],
   "source": [
    "import tensorflow as tf\n",
    "\n",
    "train_x = [1,2,3,4,5,6,7]\n",
    "train_y = [3,5,7,9,11,13,15]\n",
    "\n",
    "a = tf.Variable(0.1)\n",
    "b = tf.Variable(0.1)\n",
    "\n",
    "def loss_func(a, b):\n",
    "    expect = train_x*a + b\n",
    "    return tf.keras.losses.mse(train_y, expect)\n",
    "\n",
    "opt = tf.keras.optimizers.Adam(learning_rate = 0.01)\n",
    "\n",
    "for i in range(2900):\n",
    "    opt.minimize( lamda:loss_func(a, b), var_list = [a, b])\n",
    "    print(a.numpy(), b.numpy())"
   ]
  },
  {
   "cell_type": "code",
   "execution_count": null,
   "id": "e12f1c38-a489-46f8-a694-835fbbf0f3e8",
   "metadata": {},
   "outputs": [],
   "source": []
  }
 ],
 "metadata": {
  "kernelspec": {
   "display_name": "saturn (Python 3)",
   "language": "python",
   "name": "python3"
  },
  "language_info": {
   "codemirror_mode": {
    "name": "ipython",
    "version": 3
   },
   "file_extension": ".py",
   "mimetype": "text/x-python",
   "name": "python",
   "nbconvert_exporter": "python",
   "pygments_lexer": "ipython3",
   "version": "3.9.13"
  }
 },
 "nbformat": 4,
 "nbformat_minor": 5
}
